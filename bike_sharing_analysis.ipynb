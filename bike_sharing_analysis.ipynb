{
 "cells": [
  {
   "cell_type": "code",
   "execution_count": 1,
   "metadata": {
    "collapsed": true
   },
   "outputs": [],
   "source": [
    "import numpy as np\n",
    "import pandas as pd\n",
    "import seaborn as sns"
   ]
  },
  {
   "cell_type": "code",
   "execution_count": 2,
   "metadata": {
    "collapsed": true
   },
   "outputs": [],
   "source": [
    "%matplotlib inline"
   ]
  },
  {
   "cell_type": "code",
   "execution_count": 3,
   "metadata": {
    "collapsed": true
   },
   "outputs": [],
   "source": [
    "df = pd.read_csv('bike sharing_Dataset.csv')"
   ]
  },
  {
   "cell_type": "code",
   "execution_count": 4,
   "metadata": {},
   "outputs": [
    {
     "data": {
      "text/html": [
       "<div>\n",
       "<style>\n",
       "    .dataframe thead tr:only-child th {\n",
       "        text-align: right;\n",
       "    }\n",
       "\n",
       "    .dataframe thead th {\n",
       "        text-align: left;\n",
       "    }\n",
       "\n",
       "    .dataframe tbody tr th {\n",
       "        vertical-align: top;\n",
       "    }\n",
       "</style>\n",
       "<table border=\"1\" class=\"dataframe\">\n",
       "  <thead>\n",
       "    <tr style=\"text-align: right;\">\n",
       "      <th></th>\n",
       "      <th>Trip ID</th>\n",
       "      <th>Duration</th>\n",
       "      <th>Start Date</th>\n",
       "      <th>Start Station</th>\n",
       "      <th>Start Terminal</th>\n",
       "      <th>End Date</th>\n",
       "      <th>End Station</th>\n",
       "      <th>End Terminal</th>\n",
       "      <th>Bike #</th>\n",
       "      <th>Subscriber Type</th>\n",
       "      <th>Zip Code</th>\n",
       "    </tr>\n",
       "  </thead>\n",
       "  <tbody>\n",
       "    <tr>\n",
       "      <th>0</th>\n",
       "      <td>432946</td>\n",
       "      <td>406</td>\n",
       "      <td>8/31/14 22:31</td>\n",
       "      <td>Mountain View Caltrain Station</td>\n",
       "      <td>28</td>\n",
       "      <td>8/31/14 22:38</td>\n",
       "      <td>Castro Street and El Camino Real</td>\n",
       "      <td>32</td>\n",
       "      <td>17</td>\n",
       "      <td>Subscriber</td>\n",
       "      <td>94040</td>\n",
       "    </tr>\n",
       "    <tr>\n",
       "      <th>1</th>\n",
       "      <td>432945</td>\n",
       "      <td>468</td>\n",
       "      <td>8/31/14 22:07</td>\n",
       "      <td>Beale at Market</td>\n",
       "      <td>56</td>\n",
       "      <td>8/31/14 22:15</td>\n",
       "      <td>Market at 4th</td>\n",
       "      <td>76</td>\n",
       "      <td>509</td>\n",
       "      <td>Customer</td>\n",
       "      <td>11231</td>\n",
       "    </tr>\n",
       "    <tr>\n",
       "      <th>2</th>\n",
       "      <td>432944</td>\n",
       "      <td>534</td>\n",
       "      <td>8/31/14 22:06</td>\n",
       "      <td>Beale at Market</td>\n",
       "      <td>56</td>\n",
       "      <td>8/31/14 22:15</td>\n",
       "      <td>Market at 4th</td>\n",
       "      <td>76</td>\n",
       "      <td>342</td>\n",
       "      <td>Customer</td>\n",
       "      <td>11231</td>\n",
       "    </tr>\n",
       "    <tr>\n",
       "      <th>3</th>\n",
       "      <td>432942</td>\n",
       "      <td>1041</td>\n",
       "      <td>8/31/14 21:45</td>\n",
       "      <td>Embarcadero at Sansome</td>\n",
       "      <td>60</td>\n",
       "      <td>8/31/14 22:02</td>\n",
       "      <td>Steuart at Market</td>\n",
       "      <td>74</td>\n",
       "      <td>603</td>\n",
       "      <td>Customer</td>\n",
       "      <td>94521</td>\n",
       "    </tr>\n",
       "    <tr>\n",
       "      <th>4</th>\n",
       "      <td>432941</td>\n",
       "      <td>1091</td>\n",
       "      <td>8/31/14 21:44</td>\n",
       "      <td>Embarcadero at Sansome</td>\n",
       "      <td>60</td>\n",
       "      <td>8/31/14 22:02</td>\n",
       "      <td>Steuart at Market</td>\n",
       "      <td>74</td>\n",
       "      <td>598</td>\n",
       "      <td>Customer</td>\n",
       "      <td>94521</td>\n",
       "    </tr>\n",
       "  </tbody>\n",
       "</table>\n",
       "</div>"
      ],
      "text/plain": [
       "   Trip ID  Duration     Start Date                   Start Station  \\\n",
       "0   432946       406  8/31/14 22:31  Mountain View Caltrain Station   \n",
       "1   432945       468  8/31/14 22:07                 Beale at Market   \n",
       "2   432944       534  8/31/14 22:06                 Beale at Market   \n",
       "3   432942      1041  8/31/14 21:45          Embarcadero at Sansome   \n",
       "4   432941      1091  8/31/14 21:44          Embarcadero at Sansome   \n",
       "\n",
       "   Start Terminal       End Date                       End Station  \\\n",
       "0              28  8/31/14 22:38  Castro Street and El Camino Real   \n",
       "1              56  8/31/14 22:15                     Market at 4th   \n",
       "2              56  8/31/14 22:15                     Market at 4th   \n",
       "3              60  8/31/14 22:02                 Steuart at Market   \n",
       "4              60  8/31/14 22:02                 Steuart at Market   \n",
       "\n",
       "   End Terminal  Bike # Subscriber Type Zip Code  \n",
       "0            32      17      Subscriber    94040  \n",
       "1            76     509        Customer    11231  \n",
       "2            76     342        Customer    11231  \n",
       "3            74     603        Customer    94521  \n",
       "4            74     598        Customer    94521  "
      ]
     },
     "execution_count": 4,
     "metadata": {},
     "output_type": "execute_result"
    }
   ],
   "source": [
    "df.head()"
   ]
  },
  {
   "cell_type": "code",
   "execution_count": 5,
   "metadata": {},
   "outputs": [
    {
     "data": {
      "text/plain": [
       "Trip ID             int64\n",
       "Duration            int64\n",
       "Start Date         object\n",
       "Start Station      object\n",
       "Start Terminal      int64\n",
       "End Date           object\n",
       "End Station        object\n",
       "End Terminal        int64\n",
       "Bike #              int64\n",
       "Subscriber Type    object\n",
       "Zip Code           object\n",
       "dtype: object"
      ]
     },
     "execution_count": 5,
     "metadata": {},
     "output_type": "execute_result"
    }
   ],
   "source": [
    "df.dtypes"
   ]
  },
  {
   "cell_type": "markdown",
   "metadata": {},
   "source": [
    "###### Convert variables to the right data types:"
   ]
  },
  {
   "cell_type": "code",
   "execution_count": 19,
   "metadata": {
    "collapsed": true
   },
   "outputs": [],
   "source": [
    "df[['Start Terminal', 'End Terminal', 'Bike #']] = df[['Start Terminal', 'End Terminal', 'Bike #']].astype(str)"
   ]
  },
  {
   "cell_type": "code",
   "execution_count": null,
   "metadata": {
    "collapsed": true
   },
   "outputs": [],
   "source": [
    "df['Start Date'] = pd.to_datetime(df['Start Date'])\n",
    "df['End Date'] = pd.to_datetime(df['End Date'])"
   ]
  },
  {
   "cell_type": "code",
   "execution_count": 20,
   "metadata": {},
   "outputs": [
    {
     "data": {
      "text/plain": [
       "Trip ID                     int64\n",
       "Duration                    int64\n",
       "Start Date         datetime64[ns]\n",
       "Start Station              object\n",
       "Start Terminal             object\n",
       "End Date           datetime64[ns]\n",
       "End Station                object\n",
       "End Terminal               object\n",
       "Bike #                     object\n",
       "Subscriber Type            object\n",
       "Zip Code                   object\n",
       "Month                      object\n",
       "dtype: object"
      ]
     },
     "execution_count": 20,
     "metadata": {},
     "output_type": "execute_result"
    }
   ],
   "source": [
    "df.dtypes"
   ]
  },
  {
   "cell_type": "code",
   "execution_count": 9,
   "metadata": {},
   "outputs": [
    {
     "data": {
      "text/html": [
       "<div>\n",
       "<style>\n",
       "    .dataframe thead tr:only-child th {\n",
       "        text-align: right;\n",
       "    }\n",
       "\n",
       "    .dataframe thead th {\n",
       "        text-align: left;\n",
       "    }\n",
       "\n",
       "    .dataframe tbody tr th {\n",
       "        vertical-align: top;\n",
       "    }\n",
       "</style>\n",
       "<table border=\"1\" class=\"dataframe\">\n",
       "  <thead>\n",
       "    <tr style=\"text-align: right;\">\n",
       "      <th></th>\n",
       "      <th>Trip ID</th>\n",
       "      <th>Duration</th>\n",
       "      <th>Start Date</th>\n",
       "      <th>Start Station</th>\n",
       "      <th>Start Terminal</th>\n",
       "      <th>End Date</th>\n",
       "      <th>End Station</th>\n",
       "      <th>End Terminal</th>\n",
       "      <th>Bike #</th>\n",
       "      <th>Subscriber Type</th>\n",
       "      <th>Zip Code</th>\n",
       "    </tr>\n",
       "  </thead>\n",
       "  <tbody>\n",
       "    <tr>\n",
       "      <th>177</th>\n",
       "      <td>432713</td>\n",
       "      <td>86143</td>\n",
       "      <td>2014-08-31 16:13:00</td>\n",
       "      <td>Market at 10th</td>\n",
       "      <td>67</td>\n",
       "      <td>2014-09-01 16:09:00</td>\n",
       "      <td>Market at 10th</td>\n",
       "      <td>67</td>\n",
       "      <td>572</td>\n",
       "      <td>Customer</td>\n",
       "      <td>95814</td>\n",
       "    </tr>\n",
       "    <tr>\n",
       "      <th>279</th>\n",
       "      <td>432572</td>\n",
       "      <td>78922</td>\n",
       "      <td>2014-08-31 12:57:00</td>\n",
       "      <td>Market at 10th</td>\n",
       "      <td>67</td>\n",
       "      <td>2014-09-01 10:52:00</td>\n",
       "      <td>Market at 10th</td>\n",
       "      <td>67</td>\n",
       "      <td>627</td>\n",
       "      <td>Customer</td>\n",
       "      <td>60462</td>\n",
       "    </tr>\n",
       "    <tr>\n",
       "      <th>280</th>\n",
       "      <td>432571</td>\n",
       "      <td>78947</td>\n",
       "      <td>2014-08-31 12:56:00</td>\n",
       "      <td>Market at 10th</td>\n",
       "      <td>67</td>\n",
       "      <td>2014-09-01 10:52:00</td>\n",
       "      <td>Market at 10th</td>\n",
       "      <td>67</td>\n",
       "      <td>618</td>\n",
       "      <td>Customer</td>\n",
       "      <td>60462</td>\n",
       "    </tr>\n",
       "    <tr>\n",
       "      <th>463</th>\n",
       "      <td>432324</td>\n",
       "      <td>113622</td>\n",
       "      <td>2014-08-31 05:41:00</td>\n",
       "      <td>Washington at Kearny</td>\n",
       "      <td>46</td>\n",
       "      <td>2014-09-01 13:14:00</td>\n",
       "      <td>Temporary Transbay Terminal (Howard at Beale)</td>\n",
       "      <td>55</td>\n",
       "      <td>354</td>\n",
       "      <td>Customer</td>\n",
       "      <td>nil</td>\n",
       "    </tr>\n",
       "    <tr>\n",
       "      <th>469</th>\n",
       "      <td>432317</td>\n",
       "      <td>104344</td>\n",
       "      <td>2014-08-31 03:09:00</td>\n",
       "      <td>Washington at Kearny</td>\n",
       "      <td>46</td>\n",
       "      <td>2014-09-01 08:08:00</td>\n",
       "      <td>Mechanics Plaza (Market at Battery)</td>\n",
       "      <td>75</td>\n",
       "      <td>370</td>\n",
       "      <td>Customer</td>\n",
       "      <td>nil</td>\n",
       "    </tr>\n",
       "    <tr>\n",
       "      <th>31215</th>\n",
       "      <td>389577</td>\n",
       "      <td>674</td>\n",
       "      <td>2014-07-31 23:49:00</td>\n",
       "      <td>2nd at Folsom</td>\n",
       "      <td>62</td>\n",
       "      <td>2014-08-01 00:01:00</td>\n",
       "      <td>San Francisco Caltrain (Townsend at 4th)</td>\n",
       "      <td>70</td>\n",
       "      <td>387</td>\n",
       "      <td>Subscriber</td>\n",
       "      <td>94401</td>\n",
       "    </tr>\n",
       "    <tr>\n",
       "      <th>31220</th>\n",
       "      <td>389571</td>\n",
       "      <td>72972</td>\n",
       "      <td>2014-07-31 23:05:00</td>\n",
       "      <td>California Ave Caltrain Station</td>\n",
       "      <td>36</td>\n",
       "      <td>2014-08-01 19:21:00</td>\n",
       "      <td>California Ave Caltrain Station</td>\n",
       "      <td>36</td>\n",
       "      <td>295</td>\n",
       "      <td>Customer</td>\n",
       "      <td>96708</td>\n",
       "    </tr>\n",
       "    <tr>\n",
       "      <th>31265</th>\n",
       "      <td>389511</td>\n",
       "      <td>49438</td>\n",
       "      <td>2014-07-31 20:36:00</td>\n",
       "      <td>Post at Kearny</td>\n",
       "      <td>47</td>\n",
       "      <td>2014-08-01 10:20:00</td>\n",
       "      <td>Golden Gate at Polk</td>\n",
       "      <td>59</td>\n",
       "      <td>458</td>\n",
       "      <td>Subscriber</td>\n",
       "      <td>94109</td>\n",
       "    </tr>\n",
       "    <tr>\n",
       "      <th>62708</th>\n",
       "      <td>345640</td>\n",
       "      <td>57078</td>\n",
       "      <td>2014-06-30 18:11:00</td>\n",
       "      <td>San Pedro Square</td>\n",
       "      <td>6</td>\n",
       "      <td>2014-07-01 10:02:00</td>\n",
       "      <td>Santa Clara at Almaden</td>\n",
       "      <td>4</td>\n",
       "      <td>645</td>\n",
       "      <td>Customer</td>\n",
       "      <td>91377</td>\n",
       "    </tr>\n",
       "    <tr>\n",
       "      <th>62711</th>\n",
       "      <td>345637</td>\n",
       "      <td>57134</td>\n",
       "      <td>2014-06-30 18:10:00</td>\n",
       "      <td>San Pedro Square</td>\n",
       "      <td>6</td>\n",
       "      <td>2014-07-01 10:02:00</td>\n",
       "      <td>Santa Clara at Almaden</td>\n",
       "      <td>4</td>\n",
       "      <td>93</td>\n",
       "      <td>Customer</td>\n",
       "      <td>91377</td>\n",
       "    </tr>\n",
       "    <tr>\n",
       "      <th>92476</th>\n",
       "      <td>305577</td>\n",
       "      <td>314</td>\n",
       "      <td>2014-05-31 23:58:00</td>\n",
       "      <td>Santa Clara at Almaden</td>\n",
       "      <td>4</td>\n",
       "      <td>2014-06-01 00:04:00</td>\n",
       "      <td>Paseo de San Antonio</td>\n",
       "      <td>7</td>\n",
       "      <td>188</td>\n",
       "      <td>Subscriber</td>\n",
       "      <td>95112</td>\n",
       "    </tr>\n",
       "    <tr>\n",
       "      <th>92481</th>\n",
       "      <td>305571</td>\n",
       "      <td>51455</td>\n",
       "      <td>2014-05-31 22:57:00</td>\n",
       "      <td>Commercial at Montgomery</td>\n",
       "      <td>45</td>\n",
       "      <td>2014-06-01 13:14:00</td>\n",
       "      <td>Commercial at Montgomery</td>\n",
       "      <td>45</td>\n",
       "      <td>29</td>\n",
       "      <td>Customer</td>\n",
       "      <td>97219</td>\n",
       "    </tr>\n",
       "    <tr>\n",
       "      <th>92485</th>\n",
       "      <td>305567</td>\n",
       "      <td>52074</td>\n",
       "      <td>2014-05-31 22:47:00</td>\n",
       "      <td>Commercial at Montgomery</td>\n",
       "      <td>45</td>\n",
       "      <td>2014-06-01 13:15:00</td>\n",
       "      <td>Commercial at Montgomery</td>\n",
       "      <td>45</td>\n",
       "      <td>287</td>\n",
       "      <td>Customer</td>\n",
       "      <td>97219</td>\n",
       "    </tr>\n",
       "    <tr>\n",
       "      <th>92608</th>\n",
       "      <td>305374</td>\n",
       "      <td>66007</td>\n",
       "      <td>2014-05-31 16:21:00</td>\n",
       "      <td>Market at Sansome</td>\n",
       "      <td>77</td>\n",
       "      <td>2014-06-01 10:41:00</td>\n",
       "      <td>Davis at Jackson</td>\n",
       "      <td>42</td>\n",
       "      <td>559</td>\n",
       "      <td>Customer</td>\n",
       "      <td>94111</td>\n",
       "    </tr>\n",
       "    <tr>\n",
       "      <th>92854</th>\n",
       "      <td>305075</td>\n",
       "      <td>72917</td>\n",
       "      <td>2014-05-31 10:07:00</td>\n",
       "      <td>San Pedro Square</td>\n",
       "      <td>6</td>\n",
       "      <td>2014-06-01 06:22:00</td>\n",
       "      <td>Japantown</td>\n",
       "      <td>9</td>\n",
       "      <td>299</td>\n",
       "      <td>Customer</td>\n",
       "      <td>nil</td>\n",
       "    </tr>\n",
       "    <tr>\n",
       "      <th>92855</th>\n",
       "      <td>305074</td>\n",
       "      <td>72873</td>\n",
       "      <td>2014-05-31 10:06:00</td>\n",
       "      <td>San Pedro Square</td>\n",
       "      <td>6</td>\n",
       "      <td>2014-06-01 06:21:00</td>\n",
       "      <td>Japantown</td>\n",
       "      <td>9</td>\n",
       "      <td>146</td>\n",
       "      <td>Customer</td>\n",
       "      <td>nil</td>\n",
       "    </tr>\n",
       "    <tr>\n",
       "      <th>94491</th>\n",
       "      <td>302937</td>\n",
       "      <td>249348</td>\n",
       "      <td>2014-05-29 16:00:00</td>\n",
       "      <td>Cowper at University</td>\n",
       "      <td>37</td>\n",
       "      <td>2014-06-01 13:15:00</td>\n",
       "      <td>Palo Alto Caltrain Station</td>\n",
       "      <td>34</td>\n",
       "      <td>131</td>\n",
       "      <td>Customer</td>\n",
       "      <td>95125</td>\n",
       "    </tr>\n",
       "    <tr>\n",
       "      <th>120978</th>\n",
       "      <td>267392</td>\n",
       "      <td>371</td>\n",
       "      <td>2014-04-30 23:56:00</td>\n",
       "      <td>Powell Street BART</td>\n",
       "      <td>39</td>\n",
       "      <td>2014-05-01 00:02:00</td>\n",
       "      <td>South Van Ness at Market</td>\n",
       "      <td>66</td>\n",
       "      <td>398</td>\n",
       "      <td>Subscriber</td>\n",
       "      <td>94404</td>\n",
       "    </tr>\n",
       "    <tr>\n",
       "      <th>120983</th>\n",
       "      <td>267387</td>\n",
       "      <td>2572</td>\n",
       "      <td>2014-04-30 23:28:00</td>\n",
       "      <td>Davis at Jackson</td>\n",
       "      <td>42</td>\n",
       "      <td>2014-05-01 00:10:00</td>\n",
       "      <td>Davis at Jackson</td>\n",
       "      <td>42</td>\n",
       "      <td>439</td>\n",
       "      <td>Customer</td>\n",
       "      <td>94111</td>\n",
       "    </tr>\n",
       "    <tr>\n",
       "      <th>120984</th>\n",
       "      <td>267386</td>\n",
       "      <td>2571</td>\n",
       "      <td>2014-04-30 23:27:00</td>\n",
       "      <td>Davis at Jackson</td>\n",
       "      <td>42</td>\n",
       "      <td>2014-05-01 00:10:00</td>\n",
       "      <td>Davis at Jackson</td>\n",
       "      <td>42</td>\n",
       "      <td>423</td>\n",
       "      <td>Customer</td>\n",
       "      <td>94111</td>\n",
       "    </tr>\n",
       "    <tr>\n",
       "      <th>147469</th>\n",
       "      <td>232316</td>\n",
       "      <td>66610</td>\n",
       "      <td>2014-03-31 13:16:00</td>\n",
       "      <td>Golden Gate at Polk</td>\n",
       "      <td>59</td>\n",
       "      <td>2014-04-01 07:46:00</td>\n",
       "      <td>5th at Howard</td>\n",
       "      <td>57</td>\n",
       "      <td>497</td>\n",
       "      <td>Customer</td>\n",
       "      <td>95215</td>\n",
       "    </tr>\n",
       "  </tbody>\n",
       "</table>\n",
       "</div>"
      ],
      "text/plain": [
       "        Trip ID  Duration          Start Date  \\\n",
       "177      432713     86143 2014-08-31 16:13:00   \n",
       "279      432572     78922 2014-08-31 12:57:00   \n",
       "280      432571     78947 2014-08-31 12:56:00   \n",
       "463      432324    113622 2014-08-31 05:41:00   \n",
       "469      432317    104344 2014-08-31 03:09:00   \n",
       "31215    389577       674 2014-07-31 23:49:00   \n",
       "31220    389571     72972 2014-07-31 23:05:00   \n",
       "31265    389511     49438 2014-07-31 20:36:00   \n",
       "62708    345640     57078 2014-06-30 18:11:00   \n",
       "62711    345637     57134 2014-06-30 18:10:00   \n",
       "92476    305577       314 2014-05-31 23:58:00   \n",
       "92481    305571     51455 2014-05-31 22:57:00   \n",
       "92485    305567     52074 2014-05-31 22:47:00   \n",
       "92608    305374     66007 2014-05-31 16:21:00   \n",
       "92854    305075     72917 2014-05-31 10:07:00   \n",
       "92855    305074     72873 2014-05-31 10:06:00   \n",
       "94491    302937    249348 2014-05-29 16:00:00   \n",
       "120978   267392       371 2014-04-30 23:56:00   \n",
       "120983   267387      2572 2014-04-30 23:28:00   \n",
       "120984   267386      2571 2014-04-30 23:27:00   \n",
       "147469   232316     66610 2014-03-31 13:16:00   \n",
       "\n",
       "                          Start Station Start Terminal            End Date  \\\n",
       "177                      Market at 10th             67 2014-09-01 16:09:00   \n",
       "279                      Market at 10th             67 2014-09-01 10:52:00   \n",
       "280                      Market at 10th             67 2014-09-01 10:52:00   \n",
       "463                Washington at Kearny             46 2014-09-01 13:14:00   \n",
       "469                Washington at Kearny             46 2014-09-01 08:08:00   \n",
       "31215                     2nd at Folsom             62 2014-08-01 00:01:00   \n",
       "31220   California Ave Caltrain Station             36 2014-08-01 19:21:00   \n",
       "31265                    Post at Kearny             47 2014-08-01 10:20:00   \n",
       "62708                  San Pedro Square              6 2014-07-01 10:02:00   \n",
       "62711                  San Pedro Square              6 2014-07-01 10:02:00   \n",
       "92476            Santa Clara at Almaden              4 2014-06-01 00:04:00   \n",
       "92481          Commercial at Montgomery             45 2014-06-01 13:14:00   \n",
       "92485          Commercial at Montgomery             45 2014-06-01 13:15:00   \n",
       "92608                 Market at Sansome             77 2014-06-01 10:41:00   \n",
       "92854                  San Pedro Square              6 2014-06-01 06:22:00   \n",
       "92855                  San Pedro Square              6 2014-06-01 06:21:00   \n",
       "94491              Cowper at University             37 2014-06-01 13:15:00   \n",
       "120978               Powell Street BART             39 2014-05-01 00:02:00   \n",
       "120983                 Davis at Jackson             42 2014-05-01 00:10:00   \n",
       "120984                 Davis at Jackson             42 2014-05-01 00:10:00   \n",
       "147469              Golden Gate at Polk             59 2014-04-01 07:46:00   \n",
       "\n",
       "                                          End Station End Terminal  Bike #  \\\n",
       "177                                    Market at 10th           67     572   \n",
       "279                                    Market at 10th           67     627   \n",
       "280                                    Market at 10th           67     618   \n",
       "463     Temporary Transbay Terminal (Howard at Beale)           55     354   \n",
       "469               Mechanics Plaza (Market at Battery)           75     370   \n",
       "31215        San Francisco Caltrain (Townsend at 4th)           70     387   \n",
       "31220                 California Ave Caltrain Station           36     295   \n",
       "31265                             Golden Gate at Polk           59     458   \n",
       "62708                          Santa Clara at Almaden            4     645   \n",
       "62711                          Santa Clara at Almaden            4      93   \n",
       "92476                            Paseo de San Antonio            7     188   \n",
       "92481                        Commercial at Montgomery           45      29   \n",
       "92485                        Commercial at Montgomery           45     287   \n",
       "92608                                Davis at Jackson           42     559   \n",
       "92854                                       Japantown            9     299   \n",
       "92855                                       Japantown            9     146   \n",
       "94491                      Palo Alto Caltrain Station           34     131   \n",
       "120978                       South Van Ness at Market           66     398   \n",
       "120983                               Davis at Jackson           42     439   \n",
       "120984                               Davis at Jackson           42     423   \n",
       "147469                                  5th at Howard           57     497   \n",
       "\n",
       "       Subscriber Type Zip Code  \n",
       "177           Customer    95814  \n",
       "279           Customer    60462  \n",
       "280           Customer    60462  \n",
       "463           Customer      nil  \n",
       "469           Customer      nil  \n",
       "31215       Subscriber    94401  \n",
       "31220         Customer    96708  \n",
       "31265       Subscriber    94109  \n",
       "62708         Customer    91377  \n",
       "62711         Customer    91377  \n",
       "92476       Subscriber    95112  \n",
       "92481         Customer    97219  \n",
       "92485         Customer    97219  \n",
       "92608         Customer    94111  \n",
       "92854         Customer      nil  \n",
       "92855         Customer      nil  \n",
       "94491         Customer    95125  \n",
       "120978      Subscriber    94404  \n",
       "120983        Customer    94111  \n",
       "120984        Customer    94111  \n",
       "147469        Customer    95215  "
      ]
     },
     "execution_count": 9,
     "metadata": {},
     "output_type": "execute_result"
    }
   ],
   "source": [
    "df[df['End Date'].dt.month != df['Start Date'].dt.month]"
   ]
  },
  {
   "cell_type": "markdown",
   "metadata": {},
   "source": [
    "*Few rows have start month not equal to end month. I will just use the start month as the month of rent.*"
   ]
  },
  {
   "cell_type": "code",
   "execution_count": 10,
   "metadata": {
    "collapsed": true
   },
   "outputs": [],
   "source": [
    "df['Month'] = df['Start Date'].dt.strftime('%b')"
   ]
  },
  {
   "cell_type": "code",
   "execution_count": 22,
   "metadata": {},
   "outputs": [
    {
     "data": {
      "text/html": [
       "<div>\n",
       "<style>\n",
       "    .dataframe thead tr:only-child th {\n",
       "        text-align: right;\n",
       "    }\n",
       "\n",
       "    .dataframe thead th {\n",
       "        text-align: left;\n",
       "    }\n",
       "\n",
       "    .dataframe tbody tr th {\n",
       "        vertical-align: top;\n",
       "    }\n",
       "</style>\n",
       "<table border=\"1\" class=\"dataframe\">\n",
       "  <thead>\n",
       "    <tr style=\"text-align: right;\">\n",
       "      <th></th>\n",
       "      <th>Trip ID</th>\n",
       "      <th>Duration</th>\n",
       "      <th>Start Date</th>\n",
       "      <th>Start Station</th>\n",
       "      <th>Start Terminal</th>\n",
       "      <th>End Date</th>\n",
       "      <th>End Station</th>\n",
       "      <th>End Terminal</th>\n",
       "      <th>Bike #</th>\n",
       "      <th>Subscriber Type</th>\n",
       "      <th>Zip Code</th>\n",
       "      <th>Month</th>\n",
       "    </tr>\n",
       "  </thead>\n",
       "  <tbody>\n",
       "    <tr>\n",
       "      <th>0</th>\n",
       "      <td>432946</td>\n",
       "      <td>406</td>\n",
       "      <td>2014-08-31 22:31:00</td>\n",
       "      <td>Mountain View Caltrain Station</td>\n",
       "      <td>28</td>\n",
       "      <td>2014-08-31 22:38:00</td>\n",
       "      <td>Castro Street and El Camino Real</td>\n",
       "      <td>32</td>\n",
       "      <td>17</td>\n",
       "      <td>Subscriber</td>\n",
       "      <td>94040</td>\n",
       "      <td>Aug</td>\n",
       "    </tr>\n",
       "    <tr>\n",
       "      <th>1</th>\n",
       "      <td>432945</td>\n",
       "      <td>468</td>\n",
       "      <td>2014-08-31 22:07:00</td>\n",
       "      <td>Beale at Market</td>\n",
       "      <td>56</td>\n",
       "      <td>2014-08-31 22:15:00</td>\n",
       "      <td>Market at 4th</td>\n",
       "      <td>76</td>\n",
       "      <td>509</td>\n",
       "      <td>Customer</td>\n",
       "      <td>11231</td>\n",
       "      <td>Aug</td>\n",
       "    </tr>\n",
       "    <tr>\n",
       "      <th>2</th>\n",
       "      <td>432944</td>\n",
       "      <td>534</td>\n",
       "      <td>2014-08-31 22:06:00</td>\n",
       "      <td>Beale at Market</td>\n",
       "      <td>56</td>\n",
       "      <td>2014-08-31 22:15:00</td>\n",
       "      <td>Market at 4th</td>\n",
       "      <td>76</td>\n",
       "      <td>342</td>\n",
       "      <td>Customer</td>\n",
       "      <td>11231</td>\n",
       "      <td>Aug</td>\n",
       "    </tr>\n",
       "    <tr>\n",
       "      <th>3</th>\n",
       "      <td>432942</td>\n",
       "      <td>1041</td>\n",
       "      <td>2014-08-31 21:45:00</td>\n",
       "      <td>Embarcadero at Sansome</td>\n",
       "      <td>60</td>\n",
       "      <td>2014-08-31 22:02:00</td>\n",
       "      <td>Steuart at Market</td>\n",
       "      <td>74</td>\n",
       "      <td>603</td>\n",
       "      <td>Customer</td>\n",
       "      <td>94521</td>\n",
       "      <td>Aug</td>\n",
       "    </tr>\n",
       "    <tr>\n",
       "      <th>4</th>\n",
       "      <td>432941</td>\n",
       "      <td>1091</td>\n",
       "      <td>2014-08-31 21:44:00</td>\n",
       "      <td>Embarcadero at Sansome</td>\n",
       "      <td>60</td>\n",
       "      <td>2014-08-31 22:02:00</td>\n",
       "      <td>Steuart at Market</td>\n",
       "      <td>74</td>\n",
       "      <td>598</td>\n",
       "      <td>Customer</td>\n",
       "      <td>94521</td>\n",
       "      <td>Aug</td>\n",
       "    </tr>\n",
       "  </tbody>\n",
       "</table>\n",
       "</div>"
      ],
      "text/plain": [
       "   Trip ID  Duration          Start Date                   Start Station  \\\n",
       "0   432946       406 2014-08-31 22:31:00  Mountain View Caltrain Station   \n",
       "1   432945       468 2014-08-31 22:07:00                 Beale at Market   \n",
       "2   432944       534 2014-08-31 22:06:00                 Beale at Market   \n",
       "3   432942      1041 2014-08-31 21:45:00          Embarcadero at Sansome   \n",
       "4   432941      1091 2014-08-31 21:44:00          Embarcadero at Sansome   \n",
       "\n",
       "  Start Terminal            End Date                       End Station  \\\n",
       "0             28 2014-08-31 22:38:00  Castro Street and El Camino Real   \n",
       "1             56 2014-08-31 22:15:00                     Market at 4th   \n",
       "2             56 2014-08-31 22:15:00                     Market at 4th   \n",
       "3             60 2014-08-31 22:02:00                 Steuart at Market   \n",
       "4             60 2014-08-31 22:02:00                 Steuart at Market   \n",
       "\n",
       "  End Terminal Bike # Subscriber Type Zip Code Month  \n",
       "0           32     17      Subscriber    94040   Aug  \n",
       "1           76    509        Customer    11231   Aug  \n",
       "2           76    342        Customer    11231   Aug  \n",
       "3           74    603        Customer    94521   Aug  \n",
       "4           74    598        Customer    94521   Aug  "
      ]
     },
     "execution_count": 22,
     "metadata": {},
     "output_type": "execute_result"
    }
   ],
   "source": [
    "df.head()"
   ]
  },
  {
   "cell_type": "markdown",
   "metadata": {},
   "source": [
    "###### Summary of the data"
   ]
  },
  {
   "cell_type": "code",
   "execution_count": 25,
   "metadata": {},
   "outputs": [
    {
     "data": {
      "text/plain": [
       "count    171792.000000\n",
       "mean       1132.514250\n",
       "std        6084.234943\n",
       "min          60.000000\n",
       "25%         345.000000\n",
       "50%         517.000000\n",
       "75%         761.000000\n",
       "max      716480.000000\n",
       "Name: Duration, dtype: float64"
      ]
     },
     "execution_count": 25,
     "metadata": {},
     "output_type": "execute_result"
    }
   ],
   "source": [
    "df['Duration'].describe()"
   ]
  },
  {
   "cell_type": "code",
   "execution_count": 26,
   "metadata": {},
   "outputs": [
    {
     "data": {
      "text/html": [
       "<div>\n",
       "<style>\n",
       "    .dataframe thead tr:only-child th {\n",
       "        text-align: right;\n",
       "    }\n",
       "\n",
       "    .dataframe thead th {\n",
       "        text-align: left;\n",
       "    }\n",
       "\n",
       "    .dataframe tbody tr th {\n",
       "        vertical-align: top;\n",
       "    }\n",
       "</style>\n",
       "<table border=\"1\" class=\"dataframe\">\n",
       "  <thead>\n",
       "    <tr style=\"text-align: right;\">\n",
       "      <th></th>\n",
       "      <th>Start Station</th>\n",
       "      <th>Start Terminal</th>\n",
       "      <th>End Station</th>\n",
       "      <th>End Terminal</th>\n",
       "      <th>Bike #</th>\n",
       "      <th>Subscriber Type</th>\n",
       "      <th>Zip Code</th>\n",
       "      <th>Month</th>\n",
       "    </tr>\n",
       "  </thead>\n",
       "  <tbody>\n",
       "    <tr>\n",
       "      <th>count</th>\n",
       "      <td>171792</td>\n",
       "      <td>171792</td>\n",
       "      <td>171792</td>\n",
       "      <td>171792</td>\n",
       "      <td>171792</td>\n",
       "      <td>171792</td>\n",
       "      <td>171581</td>\n",
       "      <td>171792</td>\n",
       "    </tr>\n",
       "    <tr>\n",
       "      <th>unique</th>\n",
       "      <td>70</td>\n",
       "      <td>70</td>\n",
       "      <td>70</td>\n",
       "      <td>70</td>\n",
       "      <td>681</td>\n",
       "      <td>2</td>\n",
       "      <td>3526</td>\n",
       "      <td>6</td>\n",
       "    </tr>\n",
       "    <tr>\n",
       "      <th>top</th>\n",
       "      <td>San Francisco Caltrain (Townsend at 4th)</td>\n",
       "      <td>70</td>\n",
       "      <td>San Francisco Caltrain (Townsend at 4th)</td>\n",
       "      <td>70</td>\n",
       "      <td>558</td>\n",
       "      <td>Subscriber</td>\n",
       "      <td>94107</td>\n",
       "      <td>Jul</td>\n",
       "    </tr>\n",
       "    <tr>\n",
       "      <th>freq</th>\n",
       "      <td>12950</td>\n",
       "      <td>12950</td>\n",
       "      <td>16732</td>\n",
       "      <td>16732</td>\n",
       "      <td>569</td>\n",
       "      <td>142882</td>\n",
       "      <td>16179</td>\n",
       "      <td>31279</td>\n",
       "    </tr>\n",
       "  </tbody>\n",
       "</table>\n",
       "</div>"
      ],
      "text/plain": [
       "                                   Start Station Start Terminal  \\\n",
       "count                                     171792         171792   \n",
       "unique                                        70             70   \n",
       "top     San Francisco Caltrain (Townsend at 4th)             70   \n",
       "freq                                       12950          12950   \n",
       "\n",
       "                                     End Station End Terminal  Bike #  \\\n",
       "count                                     171792       171792  171792   \n",
       "unique                                        70           70     681   \n",
       "top     San Francisco Caltrain (Townsend at 4th)           70     558   \n",
       "freq                                       16732        16732     569   \n",
       "\n",
       "       Subscriber Type Zip Code   Month  \n",
       "count           171792   171581  171792  \n",
       "unique               2     3526       6  \n",
       "top         Subscriber    94107     Jul  \n",
       "freq            142882    16179   31279  "
      ]
     },
     "execution_count": 26,
     "metadata": {},
     "output_type": "execute_result"
    }
   ],
   "source": [
    "df.describe(include = ['O'])"
   ]
  },
  {
   "cell_type": "code",
   "execution_count": 27,
   "metadata": {},
   "outputs": [
    {
     "data": {
      "text/html": [
       "<div>\n",
       "<style>\n",
       "    .dataframe thead tr:only-child th {\n",
       "        text-align: right;\n",
       "    }\n",
       "\n",
       "    .dataframe thead th {\n",
       "        text-align: left;\n",
       "    }\n",
       "\n",
       "    .dataframe tbody tr th {\n",
       "        vertical-align: top;\n",
       "    }\n",
       "</style>\n",
       "<table border=\"1\" class=\"dataframe\">\n",
       "  <thead>\n",
       "    <tr style=\"text-align: right;\">\n",
       "      <th></th>\n",
       "      <th>Start Date</th>\n",
       "      <th>End Date</th>\n",
       "    </tr>\n",
       "  </thead>\n",
       "  <tbody>\n",
       "    <tr>\n",
       "      <th>count</th>\n",
       "      <td>171792</td>\n",
       "      <td>171792</td>\n",
       "    </tr>\n",
       "    <tr>\n",
       "      <th>unique</th>\n",
       "      <td>93171</td>\n",
       "      <td>92115</td>\n",
       "    </tr>\n",
       "    <tr>\n",
       "      <th>top</th>\n",
       "      <td>2014-08-07 08:45:00</td>\n",
       "      <td>2014-07-15 08:49:00</td>\n",
       "    </tr>\n",
       "    <tr>\n",
       "      <th>freq</th>\n",
       "      <td>15</td>\n",
       "      <td>13</td>\n",
       "    </tr>\n",
       "    <tr>\n",
       "      <th>first</th>\n",
       "      <td>2014-03-01 00:14:00</td>\n",
       "      <td>2014-03-01 00:17:00</td>\n",
       "    </tr>\n",
       "    <tr>\n",
       "      <th>last</th>\n",
       "      <td>2014-08-31 22:31:00</td>\n",
       "      <td>2014-09-01 16:09:00</td>\n",
       "    </tr>\n",
       "  </tbody>\n",
       "</table>\n",
       "</div>"
      ],
      "text/plain": [
       "                 Start Date             End Date\n",
       "count                171792               171792\n",
       "unique                93171                92115\n",
       "top     2014-08-07 08:45:00  2014-07-15 08:49:00\n",
       "freq                     15                   13\n",
       "first   2014-03-01 00:14:00  2014-03-01 00:17:00\n",
       "last    2014-08-31 22:31:00  2014-09-01 16:09:00"
      ]
     },
     "execution_count": 27,
     "metadata": {},
     "output_type": "execute_result"
    }
   ],
   "source": [
    "df.describe(include = [np.datetime64])"
   ]
  },
  {
   "cell_type": "markdown",
   "metadata": {},
   "source": [
    "## 1. How does trip duration vary for subscribers vs customers? Analyze the variation in avg trip duration for subscribers vs customers from March-August ?"
   ]
  },
  {
   "cell_type": "code",
   "execution_count": 28,
   "metadata": {},
   "outputs": [
    {
     "data": {
      "text/html": [
       "<div>\n",
       "<style>\n",
       "    .dataframe thead tr:only-child th {\n",
       "        text-align: right;\n",
       "    }\n",
       "\n",
       "    .dataframe thead th {\n",
       "        text-align: left;\n",
       "    }\n",
       "\n",
       "    .dataframe tbody tr th {\n",
       "        vertical-align: top;\n",
       "    }\n",
       "</style>\n",
       "<table border=\"1\" class=\"dataframe\">\n",
       "  <thead>\n",
       "    <tr style=\"text-align: right;\">\n",
       "      <th>Month</th>\n",
       "      <th>Aug</th>\n",
       "      <th>Jul</th>\n",
       "      <th>Jun</th>\n",
       "      <th>May</th>\n",
       "      <th>Apr</th>\n",
       "      <th>Mar</th>\n",
       "    </tr>\n",
       "    <tr>\n",
       "      <th>Subscriber Type</th>\n",
       "      <th></th>\n",
       "      <th></th>\n",
       "      <th></th>\n",
       "      <th></th>\n",
       "      <th></th>\n",
       "      <th></th>\n",
       "    </tr>\n",
       "  </thead>\n",
       "  <tbody>\n",
       "    <tr>\n",
       "      <th>Subscriber</th>\n",
       "      <td>549.663765</td>\n",
       "      <td>571.535653</td>\n",
       "      <td>609.325686</td>\n",
       "      <td>560.765496</td>\n",
       "      <td>581.541377</td>\n",
       "      <td>573.606539</td>\n",
       "    </tr>\n",
       "    <tr>\n",
       "      <th>Customer</th>\n",
       "      <td>3827.787528</td>\n",
       "      <td>3914.607337</td>\n",
       "      <td>3886.880174</td>\n",
       "      <td>3754.240585</td>\n",
       "      <td>3962.882929</td>\n",
       "      <td>4057.515839</td>\n",
       "    </tr>\n",
       "  </tbody>\n",
       "</table>\n",
       "</div>"
      ],
      "text/plain": [
       "Month                    Aug          Jul          Jun          May  \\\n",
       "Subscriber Type                                                       \n",
       "Subscriber        549.663765   571.535653   609.325686   560.765496   \n",
       "Customer         3827.787528  3914.607337  3886.880174  3754.240585   \n",
       "\n",
       "Month                    Apr          Mar  \n",
       "Subscriber Type                            \n",
       "Subscriber        581.541377   573.606539  \n",
       "Customer         3962.882929  4057.515839  "
      ]
     },
     "execution_count": 28,
     "metadata": {},
     "output_type": "execute_result"
    }
   ],
   "source": [
    "df.groupby(['Subscriber Type', 'Month'], sort=False)['Duration'].mean().unstack()"
   ]
  },
  {
   "cell_type": "code",
   "execution_count": 29,
   "metadata": {},
   "outputs": [
    {
     "data": {
      "image/png": "[encoded data removed]",
      "text/plain": [
       "<matplotlib.figure.Figure at 0x11e63a208>"
      ]
     },
     "metadata": {},
     "output_type": "display_data"
    }
   ],
   "source": [
    "sns.factorplot(x=\"Month\", y=\"Duration\", hue=\"Subscriber Type\", data=df, \n",
    "               order=['Mar','Apr','May','Jun','Jul','Aug'], aspect=1.5, palette='muted');"
   ]
  },
  {
   "cell_type": "markdown",
   "metadata": {},
   "source": [
    "*We can obviously see that customers have much higher mean trip duration.*"
   ]
  },
  {
   "cell_type": "markdown",
   "metadata": {},
   "source": [
    "## 2. Mostly popular start stations for subscribers vs customers"
   ]
  },
  {
   "cell_type": "code",
   "execution_count": 30,
   "metadata": {
    "scrolled": true
   },
   "outputs": [
    {
     "data": {
      "text/plain": [
       "Subscriber Type  Subscriber Type  Start Station                                \n",
       "Customer         Customer         Embarcadero at Sansome                            3002\n",
       "                                  Harry Bridges Plaza (Ferry Building)              2735\n",
       "                                  Market at 4th                                     1208\n",
       "                                  Powell Street BART                                1083\n",
       "                                  Embarcadero at Vallejo                            1046\n",
       "Subscriber       Subscriber       San Francisco Caltrain (Townsend at 4th)         12077\n",
       "                                  San Francisco Caltrain 2 (330 Townsend)           6573\n",
       "                                  Temporary Transbay Terminal (Howard at Beale)     6297\n",
       "                                  Market at Sansome                                 5996\n",
       "                                  2nd at Townsend                                   5889\n",
       "dtype: int64"
      ]
     },
     "execution_count": 30,
     "metadata": {},
     "output_type": "execute_result"
    }
   ],
   "source": [
    "df.groupby(['Subscriber Type', 'Start Station']).size().groupby(level=0).nlargest()"
   ]
  },
  {
   "cell_type": "markdown",
   "metadata": {},
   "source": [
    "*We can see that subscribers and customers have totally different favoriate stations.*"
   ]
  },
  {
   "cell_type": "code",
   "execution_count": 31,
   "metadata": {
    "collapsed": true
   },
   "outputs": [],
   "source": [
    "top_stn = df.groupby(['Subscriber Type', 'Start Station']).size().groupby(level=0).nlargest()\\\n",
    "    .index.get_level_values('Start Station').tolist()"
   ]
  },
  {
   "cell_type": "code",
   "execution_count": 33,
   "metadata": {},
   "outputs": [
    {
     "data": {
      "image/png": "[encoded data removed]",
      "text/plain": [
       "<matplotlib.figure.Figure at 0x11dd6f898>"
      ]
     },
     "metadata": {},
     "output_type": "display_data"
    }
   ],
   "source": [
    "sns.factorplot(y=\"Start Station\", hue=\"Subscriber Type\", data=df, kind='count',\n",
    "               order=top_stn, hue_order=['Customer','Subscriber'], aspect = 2, palette='muted');"
   ]
  },
  {
   "cell_type": "markdown",
   "metadata": {},
   "source": [
    "## 3. Which station generates the longest ride ? Does this change as we go through various months ie March- August?"
   ]
  },
  {
   "cell_type": "code",
   "execution_count": 34,
   "metadata": {},
   "outputs": [
    {
     "data": {
      "text/plain": [
       "Month  Month  Start Station                        \n",
       "Aug    Aug    Rengstorff Avenue / California Street    10689.169231\n",
       "Jul    Jul    Arena Green / SAP Center                 11754.202381\n",
       "Jun    Jun    San Mateo County Center                  13804.500000\n",
       "May    May    Castro Street and El Camino Real          7786.224490\n",
       "Apr    Apr    Redwood City Public Library              15592.000000\n",
       "Mar    Mar    Santa Clara County Civic Center          20175.444444\n",
       "Name: Duration, dtype: float64"
      ]
     },
     "execution_count": 34,
     "metadata": {},
     "output_type": "execute_result"
    }
   ],
   "source": [
    "df.groupby(['Month', 'Start Station'], sort=False)['Duration'].mean().groupby(level=0).nlargest(1)"
   ]
  },
  {
   "cell_type": "code",
   "execution_count": 35,
   "metadata": {
    "collapsed": true
   },
   "outputs": [],
   "source": [
    "long_stn = df.groupby(['Month', 'Start Station'], sort=False)['Duration'].mean().groupby(level=0).nlargest(1)\\\n",
    "    .index.get_level_values('Start Station').tolist()[::-1]"
   ]
  },
  {
   "cell_type": "code",
   "execution_count": 37,
   "metadata": {},
   "outputs": [
    {
     "data": {
      "image/png": "[encoded data removed]",
      "text/plain": [
       "<matplotlib.figure.Figure at 0x128499c88>"
      ]
     },
     "metadata": {},
     "output_type": "display_data"
    }
   ],
   "source": [
    "sns.factorplot(x='Month', y=\"Duration\", hue=\"Start Station\", data=df, kind='bar', ci=None,\\\n",
    "               order=['Mar','Apr','May','Jun','Jul','Aug'], hue_order=long_stn, aspect = 2);"
   ]
  },
  {
   "cell_type": "markdown",
   "metadata": {},
   "source": [
    "The overall longest ride is from station \"Santa Clara County Civic Center\" in May.\n",
    "And this changes among months, for each month, the longest duration was generated from different stations."
   ]
  },
  {
   "cell_type": "markdown",
   "metadata": {},
   "source": [
    "## 4. How does bike demand vary by time of the day? Does this pattern hold for both weekdays and weekends ? "
   ]
  },
  {
   "cell_type": "code",
   "execution_count": 38,
   "metadata": {
    "collapsed": true
   },
   "outputs": [],
   "source": [
    "df['Hour'] = df['Start Date'].dt.strftime('%H')\n",
    "df['Weekday'] = df['Start Date'].dt.strftime('%a')"
   ]
  },
  {
   "cell_type": "code",
   "execution_count": 39,
   "metadata": {
    "collapsed": true
   },
   "outputs": [],
   "source": [
    "demand_df = df.groupby(['Hour', 'Weekday'], sort=False)['Start Date'].size().to_frame('Demand').reset_index()"
   ]
  },
  {
   "cell_type": "code",
   "execution_count": 40,
   "metadata": {},
   "outputs": [
    {
     "data": {
      "text/html": [
       "<div>\n",
       "<style>\n",
       "    .dataframe thead tr:only-child th {\n",
       "        text-align: right;\n",
       "    }\n",
       "\n",
       "    .dataframe thead th {\n",
       "        text-align: left;\n",
       "    }\n",
       "\n",
       "    .dataframe tbody tr th {\n",
       "        vertical-align: top;\n",
       "    }\n",
       "</style>\n",
       "<table border=\"1\" class=\"dataframe\">\n",
       "  <thead>\n",
       "    <tr style=\"text-align: right;\">\n",
       "      <th></th>\n",
       "      <th>Hour</th>\n",
       "      <th>Weekday</th>\n",
       "      <th>Demand</th>\n",
       "    </tr>\n",
       "  </thead>\n",
       "  <tbody>\n",
       "    <tr>\n",
       "      <th>0</th>\n",
       "      <td>22</td>\n",
       "      <td>Sun</td>\n",
       "      <td>137</td>\n",
       "    </tr>\n",
       "    <tr>\n",
       "      <th>1</th>\n",
       "      <td>21</td>\n",
       "      <td>Sun</td>\n",
       "      <td>202</td>\n",
       "    </tr>\n",
       "    <tr>\n",
       "      <th>2</th>\n",
       "      <td>20</td>\n",
       "      <td>Sun</td>\n",
       "      <td>351</td>\n",
       "    </tr>\n",
       "    <tr>\n",
       "      <th>3</th>\n",
       "      <td>19</td>\n",
       "      <td>Sun</td>\n",
       "      <td>551</td>\n",
       "    </tr>\n",
       "    <tr>\n",
       "      <th>4</th>\n",
       "      <td>18</td>\n",
       "      <td>Sun</td>\n",
       "      <td>730</td>\n",
       "    </tr>\n",
       "  </tbody>\n",
       "</table>\n",
       "</div>"
      ],
      "text/plain": [
       "  Hour Weekday  Demand\n",
       "0   22     Sun     137\n",
       "1   21     Sun     202\n",
       "2   20     Sun     351\n",
       "3   19     Sun     551\n",
       "4   18     Sun     730"
      ]
     },
     "execution_count": 40,
     "metadata": {},
     "output_type": "execute_result"
    }
   ],
   "source": [
    "demand_df.head()"
   ]
  },
  {
   "cell_type": "code",
   "execution_count": 41,
   "metadata": {},
   "outputs": [
    {
     "data": {
      "image/png": "[encoded data removed]",
      "text/plain": [
       "<matplotlib.figure.Figure at 0x11f339978>"
      ]
     },
     "metadata": {},
     "output_type": "display_data"
    }
   ],
   "source": [
    "sns.factorplot(data=demand_df, x=\"Hour\", y='Demand', hue='Weekday', kind=\"point\", size=6, aspect=2, \n",
    "               palette=sns.color_palette(\"husl\", 7), scale=.8); "
   ]
  },
  {
   "cell_type": "markdown",
   "metadata": {},
   "source": [
    "During weekdays, the demand is very high during the rush hours.\n",
    "For both weekdays and weekends, we have higher demands from late morning to afternoon."
   ]
  }
 ],
 "metadata": {
  "kernelspec": {
   "display_name": "Python 3",
   "language": "python",
   "name": "python3"
  },
  "language_info": {
   "codemirror_mode": {
    "name": "ipython",
    "version": 3
   },
   "file_extension": ".py",
   "mimetype": "text/x-python",
   "name": "python",
   "nbconvert_exporter": "python",
   "pygments_lexer": "ipython3",
   "version": "3.6.1"
  }
 },
 "nbformat": 4,
 "nbformat_minor": 1
}
